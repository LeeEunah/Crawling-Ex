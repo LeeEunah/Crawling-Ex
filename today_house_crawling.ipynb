{
 "cells": [
  {
   "cell_type": "code",
   "execution_count": 1,
   "metadata": {},
   "outputs": [],
   "source": [
    "from selenium import webdriver\n",
    "from selenium.webdriver.common.by import By\n",
    "from bs4 import BeautifulSoup\n",
    "import time\n",
    "from tqdm import tqdm, trange\n",
    "import random\n",
    "import pandas as pd\n",
    "import numpy as np\n",
    "import urllib.request\n",
    "import ssl\n",
    "\n",
    "tqdm.pandas()\n",
    "\n",
    "headers = [{'User-Agent' : 'Mozilla/5.0 (Windows NT 10.0; Win64; x64) AppleWebKit/537.36 (KHTML, like Gecko) Chrome/90.0.4430.212 Safari/537.36'},]\n"
   ]
  },
  {
   "cell_type": "code",
   "execution_count": 18,
   "metadata": {},
   "outputs": [
    {
     "name": "stderr",
     "output_type": "stream",
     "text": [
      "/var/folders/sc/1nz868pn58g38qxs8kb343p80000gn/T/ipykernel_4491/1430684548.py:2: DeprecationWarning: executable_path has been deprecated, please pass in a Service object\n",
      "  driver = webdriver.Chrome(chrome_driver)\n"
     ]
    }
   ],
   "source": [
    "chrome_driver = './chromedriver' # 파일 확장자 이름 미표기\n",
    "driver = webdriver.Chrome(chrome_driver)"
   ]
  },
  {
   "attachments": {},
   "cell_type": "markdown",
   "metadata": {},
   "source": [
    "#### 오늘의집 URL 수집\n",
    "수집 링크: 커뮤니티 → 사진  \n",
    "\n",
    "<b><링크 종류></b>  \n",
    " ① https://ohou.se/cards/ : <집들이> 배너로 이동  \n",
    " ② https://contents.ohou.se/contents/card_collections/ : 배너 이동 없음 (인스타그램 게시물 같은 형식)\n",
    "\n",
    "<b><정렬 기준></b>  \n",
    "주거형태: 아파트, 빌라/연립, 단독주택  \n",
    "공간: 거실, 주방  \n",
    "셀프/전문: 셀프"
   ]
  },
  {
   "cell_type": "code",
   "execution_count": 3,
   "metadata": {},
   "outputs": [],
   "source": [
    "def scroll(k):\n",
    "    \n",
    "    try:        \n",
    "        # 스크롤 높이 받아오기\n",
    "        cnt = 0\n",
    "        \n",
    "        last_height = driver.execute_script(\"return document.documentElement.scrollHeight\")\n",
    "        while True:\n",
    "            pause_time = random.uniform(0.5, 0.8)\n",
    "            # 최하단까지 스크롤\n",
    "            driver.execute_script(\"window.scrollTo(0, document.documentElement.scrollHeight);\")\n",
    "            # 페이지 로딩 대기\n",
    "            time.sleep(pause_time)\n",
    "            # 무한 스크롤 동작을 위해 살짝 위로 스크롤\n",
    "            driver.execute_script(\"window.scrollTo(0, document.documentElement.scrollHeight-50);\")\n",
    "            time.sleep(pause_time)\n",
    "            # 스크롤 높이 새롭게 받아오기\n",
    "            new_height = driver.execute_script(\"return document.documentElement.scrollHeight\")\n",
    "            if cnt == k:\n",
    "                break\n",
    "            cnt += 1\n",
    "            if new_height == last_height:\n",
    "                break\n",
    "            last_height = new_height\n",
    "                \n",
    "    except Exception as e:\n",
    "        print(\"에러 발생: \", e)\n",
    "\n",
    "# 페이지 무한 스크롤 다운ㅇ\n",
    "# scroll()"
   ]
  },
  {
   "cell_type": "code",
   "execution_count": 4,
   "metadata": {},
   "outputs": [
    {
     "name": "stderr",
     "output_type": "stream",
     "text": [
      "100%|██████████| 16/16 [00:00<00:00, 3294.33it/s]\n",
      "100%|██████████| 32/32 [00:00<00:00, 10243.28it/s]\n",
      "100%|██████████| 32/32 [00:00<00:00, 13663.62it/s]\n",
      "100%|██████████| 28/28 [00:00<00:00, 15145.80it/s]\n",
      "100%|██████████| 28/28 [00:00<00:00, 5299.18it/s]\n",
      "100%|██████████| 32/32 [00:00<00:00, 24649.72it/s]\n",
      "100%|██████████| 28/28 [00:00<00:00, 4711.38it/s]\n",
      "100%|██████████| 32/32 [00:00<00:00, 8911.02it/s]\n",
      "100%|██████████| 28/28 [00:00<00:00, 10549.81it/s]\n",
      "100%|██████████| 28/28 [00:00<00:00, 8355.19it/s]\n",
      "100%|██████████| 32/32 [00:00<00:00, 8963.39it/s]\n",
      "100%|██████████| 28/28 [00:00<00:00, 18275.83it/s]\n",
      "100%|██████████| 28/28 [00:00<00:00, 8549.83it/s]\n",
      "100%|██████████| 32/32 [00:00<00:00, 34717.47it/s]\n",
      "100%|██████████| 28/28 [00:00<00:00, 27529.42it/s]\n",
      "100%|██████████| 36/36 [00:00<00:00, 14073.53it/s]\n",
      "100%|██████████| 28/28 [00:00<00:00, 15064.20it/s]\n",
      "100%|██████████| 28/28 [00:00<00:00, 7625.51it/s]\n",
      "100%|██████████| 28/28 [00:00<00:00, 17721.52it/s]\n",
      "100%|██████████| 32/32 [00:00<00:00, 19209.64it/s]\n",
      "100%|██████████| 32/32 [00:00<00:00, 11830.56it/s]\n"
     ]
    },
    {
     "name": "stdout",
     "output_type": "stream",
     "text": [
      "None\n",
      "None\n",
      "None\n",
      "None\n",
      "None\n",
      "None\n",
      "None\n",
      "None\n",
      "None\n",
      "None\n",
      "None\n",
      "None\n",
      "None\n",
      "None\n",
      "None\n",
      "None\n"
     ]
    },
    {
     "name": "stderr",
     "output_type": "stream",
     "text": [
      "100%|██████████| 32/32 [00:00<00:00, 15158.99it/s]\n",
      "100%|██████████| 28/28 [00:00<00:00, 11314.11it/s]\n",
      "100%|██████████| 32/32 [00:00<00:00, 9747.11it/s]\n"
     ]
    },
    {
     "name": "stdout",
     "output_type": "stream",
     "text": [
      "None\n",
      "None\n",
      "None\n",
      "None\n"
     ]
    },
    {
     "name": "stderr",
     "output_type": "stream",
     "text": [
      "100%|██████████| 32/32 [00:00<00:00, 4215.91it/s]\n",
      "100%|██████████| 28/28 [00:00<00:00, 14441.77it/s]\n",
      "100%|██████████| 32/32 [00:00<00:00, 7070.04it/s]\n"
     ]
    },
    {
     "name": "stdout",
     "output_type": "stream",
     "text": [
      "None\n",
      "None\n",
      "None\n",
      "None\n",
      "None\n",
      "None\n",
      "None\n",
      "None\n",
      "None\n",
      "None\n",
      "None\n",
      "None\n",
      "None\n",
      "None\n",
      "None\n",
      "None\n"
     ]
    },
    {
     "name": "stderr",
     "output_type": "stream",
     "text": [
      "100%|██████████| 28/28 [00:00<00:00, 14805.91it/s]\n",
      "100%|██████████| 36/36 [00:00<00:00, 21390.42it/s]\n"
     ]
    },
    {
     "name": "stdout",
     "output_type": "stream",
     "text": [
      "None\n",
      "None\n",
      "None\n",
      "None\n",
      "None\n",
      "None\n",
      "None\n",
      "None\n",
      "None\n",
      "None\n",
      "None\n",
      "None\n"
     ]
    },
    {
     "name": "stderr",
     "output_type": "stream",
     "text": [
      "100%|██████████| 36/36 [00:00<00:00, 6500.28it/s]\n"
     ]
    },
    {
     "name": "stdout",
     "output_type": "stream",
     "text": [
      "None\n",
      "None\n",
      "None\n",
      "None\n",
      "None\n",
      "None\n",
      "None\n",
      "None\n",
      "None\n",
      "None\n",
      "None\n",
      "None\n",
      "None\n",
      "None\n",
      "None\n",
      "None\n"
     ]
    },
    {
     "name": "stderr",
     "output_type": "stream",
     "text": [
      "100%|██████████| 32/32 [00:00<00:00, 16914.65it/s]\n"
     ]
    },
    {
     "name": "stdout",
     "output_type": "stream",
     "text": [
      "None\n",
      "None\n",
      "None\n",
      "None\n",
      "None\n",
      "None\n",
      "None\n",
      "None\n",
      "None\n",
      "None\n",
      "None\n",
      "None\n"
     ]
    },
    {
     "name": "stderr",
     "output_type": "stream",
     "text": [
      "100%|██████████| 28/28 [00:00<00:00, 9034.58it/s]\n",
      "100%|██████████| 32/32 [00:00<00:00, 16384.00it/s]\n",
      "100%|██████████| 32/32 [00:00<00:00, 7207.09it/s]\n",
      "100%|██████████| 32/32 [00:00<00:00, 3261.27it/s]\n"
     ]
    },
    {
     "name": "stdout",
     "output_type": "stream",
     "text": [
      "None\n",
      "None\n",
      "None\n",
      "None\n",
      "None\n",
      "None\n",
      "None\n",
      "None\n",
      "None\n",
      "None\n",
      "None\n",
      "None\n",
      "None\n",
      "None\n",
      "None\n",
      "None\n"
     ]
    },
    {
     "name": "stderr",
     "output_type": "stream",
     "text": [
      "100%|██████████| 32/32 [00:00<00:00, 9638.62it/s]\n",
      "100%|██████████| 36/36 [00:00<00:00, 5807.72it/s]\n"
     ]
    },
    {
     "name": "stdout",
     "output_type": "stream",
     "text": [
      "None\n",
      "None\n",
      "None\n",
      "None\n",
      "None\n",
      "None\n",
      "None\n",
      "None\n",
      "None\n",
      "None\n",
      "None\n",
      "None\n",
      "None\n",
      "None\n",
      "None\n",
      "None\n"
     ]
    },
    {
     "name": "stderr",
     "output_type": "stream",
     "text": [
      "100%|██████████| 32/32 [00:00<00:00, 13751.82it/s]\n",
      "100%|██████████| 28/28 [00:00<00:00, 20800.66it/s]\n",
      "100%|██████████| 32/32 [00:00<00:00, 5931.49it/s]\n"
     ]
    },
    {
     "name": "stdout",
     "output_type": "stream",
     "text": [
      "None\n",
      "None\n",
      "None\n",
      "None\n",
      "None\n",
      "None\n",
      "None\n",
      "None\n",
      "None\n",
      "None\n",
      "None\n",
      "None\n"
     ]
    },
    {
     "name": "stderr",
     "output_type": "stream",
     "text": [
      "100%|██████████| 32/32 [00:00<00:00, 8526.63it/s]\n",
      "100%|██████████| 28/28 [00:00<00:00, 13231.24it/s]\n",
      "100%|██████████| 28/28 [00:00<00:00, 5139.63it/s]\n",
      "100%|██████████| 28/28 [00:00<00:00, 9314.76it/s]\n"
     ]
    },
    {
     "name": "stdout",
     "output_type": "stream",
     "text": [
      "None\n",
      "None\n",
      "None\n",
      "None\n",
      "None\n",
      "None\n",
      "None\n",
      "None\n",
      "None\n",
      "None\n",
      "None\n",
      "None\n"
     ]
    },
    {
     "name": "stderr",
     "output_type": "stream",
     "text": [
      "100%|██████████| 32/32 [00:00<00:00, 17028.38it/s]\n",
      "100%|██████████| 24/24 [00:00<00:00, 25336.85it/s]\n"
     ]
    },
    {
     "name": "stdout",
     "output_type": "stream",
     "text": [
      "None\n",
      "None\n",
      "None\n",
      "None\n"
     ]
    },
    {
     "name": "stderr",
     "output_type": "stream",
     "text": [
      "100%|██████████| 36/36 [00:00<00:00, 9590.03it/s]\n"
     ]
    },
    {
     "name": "stdout",
     "output_type": "stream",
     "text": [
      "None\n",
      "None\n",
      "None\n",
      "None\n",
      "None\n",
      "None\n",
      "None\n",
      "None\n",
      "None\n",
      "None\n",
      "None\n",
      "None\n",
      "None\n",
      "None\n",
      "None\n",
      "None\n"
     ]
    },
    {
     "name": "stderr",
     "output_type": "stream",
     "text": [
      "100%|██████████| 28/28 [00:00<00:00, 11628.92it/s]\n",
      "100%|██████████| 32/32 [00:00<00:00, 19209.64it/s]\n",
      "100%|██████████| 32/32 [00:00<00:00, 6299.23it/s]\n",
      "100%|██████████| 32/32 [00:00<00:00, 11200.68it/s]\n",
      "100%|██████████| 36/36 [00:00<00:00, 24859.23it/s]\n",
      "100%|██████████| 28/28 [00:00<00:00, 13289.64it/s]\n",
      "100%|██████████| 32/32 [00:00<00:00, 16615.22it/s]\n",
      "100%|██████████| 36/36 [00:00<00:00, 6350.20it/s]\n",
      "100%|██████████| 28/28 [00:00<00:00, 5513.90it/s]\n",
      "100%|██████████| 32/32 [00:00<00:00, 11335.96it/s]\n",
      "100%|██████████| 32/32 [00:00<00:00, 38369.85it/s]\n",
      "100%|██████████| 32/32 [00:00<00:00, 5074.59it/s]\n",
      "100%|██████████| 28/28 [00:00<00:00, 22995.99it/s]\n",
      "100%|██████████| 28/28 [00:00<00:00, 9170.74it/s]\n",
      "100%|██████████| 32/32 [00:00<00:00, 7502.81it/s]\n"
     ]
    },
    {
     "name": "stdout",
     "output_type": "stream",
     "text": [
      "None\n",
      "None\n",
      "None\n",
      "None\n",
      "None\n",
      "None\n",
      "None\n",
      "None\n",
      "None\n",
      "None\n",
      "None\n",
      "None\n",
      "None\n",
      "None\n",
      "None\n",
      "None\n"
     ]
    },
    {
     "name": "stderr",
     "output_type": "stream",
     "text": [
      "100%|██████████| 32/32 [00:00<00:00, 25115.59it/s]\n",
      "100%|██████████| 28/28 [00:00<00:00, 32487.00it/s]\n",
      "100%|██████████| 32/32 [00:00<00:00, 2644.42it/s]\n",
      "100%|██████████| 28/28 [00:00<00:00, 4872.85it/s]\n",
      "100%|██████████| 32/32 [00:00<00:00, 18370.89it/s]\n",
      "100%|██████████| 28/28 [00:00<00:00, 3948.77it/s]\n",
      "100%|██████████| 32/32 [00:00<00:00, 10803.10it/s]\n",
      "100%|██████████| 32/32 [00:00<00:00, 5954.65it/s]\n"
     ]
    },
    {
     "name": "stdout",
     "output_type": "stream",
     "text": [
      "None\n",
      "None\n",
      "None\n",
      "None\n",
      "None\n",
      "None\n",
      "None\n",
      "None\n",
      "None\n",
      "None\n",
      "None\n",
      "None\n",
      "None\n",
      "None\n",
      "None\n",
      "None\n"
     ]
    },
    {
     "name": "stderr",
     "output_type": "stream",
     "text": [
      "100%|██████████| 32/32 [00:00<00:00, 9909.02it/s]\n"
     ]
    },
    {
     "name": "stdout",
     "output_type": "stream",
     "text": [
      "None\n",
      "None\n",
      "None\n",
      "None\n",
      "None\n",
      "None\n",
      "None\n",
      "None\n",
      "None\n",
      "None\n",
      "None\n",
      "None\n",
      "None\n",
      "None\n",
      "None\n",
      "None\n"
     ]
    },
    {
     "name": "stderr",
     "output_type": "stream",
     "text": [
      "100%|██████████| 32/32 [00:00<00:00, 14486.53it/s]\n",
      "100%|██████████| 28/28 [00:00<00:00, 11196.54it/s]\n"
     ]
    },
    {
     "name": "stdout",
     "output_type": "stream",
     "text": [
      "None\n",
      "None\n",
      "None\n",
      "None\n",
      "None\n",
      "None\n",
      "None\n",
      "None\n",
      "None\n",
      "None\n",
      "None\n",
      "None\n"
     ]
    },
    {
     "name": "stderr",
     "output_type": "stream",
     "text": [
      "100%|██████████| 32/32 [00:00<00:00, 11821.18it/s]\n",
      "100%|██████████| 28/28 [00:00<00:00, 19731.27it/s]\n",
      "100%|██████████| 28/28 [00:00<00:00, 7801.80it/s]\n",
      "100%|██████████| 32/32 [00:00<00:00, 7606.56it/s]\n"
     ]
    },
    {
     "name": "stdout",
     "output_type": "stream",
     "text": [
      "None\n",
      "None\n",
      "None\n",
      "None\n",
      "None\n",
      "None\n",
      "None\n",
      "None\n",
      "None\n",
      "None\n",
      "None\n",
      "None\n",
      "None\n",
      "None\n",
      "None\n",
      "None\n"
     ]
    },
    {
     "name": "stderr",
     "output_type": "stream",
     "text": [
      "100%|██████████| 32/32 [00:00<00:00, 12809.48it/s]\n"
     ]
    },
    {
     "name": "stdout",
     "output_type": "stream",
     "text": [
      "None\n",
      "None\n",
      "None\n",
      "None\n",
      "None\n",
      "None\n",
      "None\n",
      "None\n",
      "None\n",
      "None\n",
      "None\n",
      "None\n"
     ]
    },
    {
     "name": "stderr",
     "output_type": "stream",
     "text": [
      "100%|██████████| 32/32 [00:00<00:00, 3922.55it/s]\n",
      "100%|██████████| 28/28 [00:00<00:00, 28136.20it/s]\n",
      "100%|██████████| 32/32 [00:00<00:00, 21093.47it/s]\n",
      "100%|██████████| 32/32 [00:00<00:00, 15370.79it/s]\n",
      "100%|██████████| 28/28 [00:00<00:00, 23408.51it/s]\n",
      "100%|██████████| 32/32 [00:00<00:00, 9874.03it/s]\n"
     ]
    },
    {
     "name": "stdout",
     "output_type": "stream",
     "text": [
      "None\n",
      "None\n",
      "None\n",
      "None\n",
      "None\n",
      "None\n",
      "None\n",
      "None\n",
      "None\n",
      "None\n",
      "None\n",
      "None\n",
      "None\n",
      "None\n",
      "None\n",
      "None\n"
     ]
    },
    {
     "name": "stderr",
     "output_type": "stream",
     "text": [
      "100%|██████████| 28/28 [00:00<00:00, 22017.34it/s]\n",
      "100%|██████████| 32/32 [00:00<00:00, 14474.04it/s]\n"
     ]
    },
    {
     "name": "stdout",
     "output_type": "stream",
     "text": [
      "None\n",
      "None\n",
      "None\n",
      "None\n",
      "None\n",
      "None\n",
      "None\n",
      "None\n",
      "None\n",
      "None\n",
      "None\n",
      "None\n",
      "None\n",
      "None\n",
      "None\n",
      "None\n"
     ]
    },
    {
     "name": "stderr",
     "output_type": "stream",
     "text": [
      "100%|██████████| 32/32 [00:00<00:00, 3307.48it/s]\n",
      "100%|██████████| 36/36 [00:00<00:00, 10053.60it/s]\n",
      "100%|██████████| 32/32 [00:00<00:00, 14988.02it/s]\n",
      "100%|██████████| 28/28 [00:00<00:00, 3526.85it/s]\n"
     ]
    },
    {
     "name": "stdout",
     "output_type": "stream",
     "text": [
      "None\n",
      "None\n",
      "None\n",
      "None\n",
      "None\n",
      "None\n",
      "None\n",
      "None\n",
      "None\n",
      "None\n",
      "None\n",
      "None\n"
     ]
    },
    {
     "name": "stderr",
     "output_type": "stream",
     "text": [
      "100%|██████████| 28/28 [00:00<00:00, 10511.10it/s]\n",
      "100%|██████████| 36/36 [00:00<00:00, 14286.59it/s]\n",
      "100%|██████████| 28/28 [00:00<00:00, 25760.15it/s]\n",
      "100%|██████████| 28/28 [00:00<00:00, 17734.90it/s]\n",
      "100%|██████████| 32/32 [00:00<00:00, 23755.35it/s]\n",
      "100%|██████████| 28/28 [00:00<00:00, 12885.73it/s]\n",
      "100%|██████████| 36/36 [00:00<00:00, 10256.42it/s]\n"
     ]
    },
    {
     "name": "stdout",
     "output_type": "stream",
     "text": [
      "None\n",
      "None\n",
      "None\n",
      "None\n",
      "None\n",
      "None\n",
      "None\n",
      "None\n",
      "None\n",
      "None\n",
      "None\n",
      "None\n",
      "None\n",
      "None\n",
      "None\n",
      "None\n"
     ]
    },
    {
     "name": "stderr",
     "output_type": "stream",
     "text": [
      "100%|██████████| 36/36 [00:00<00:00, 19089.12it/s]\n"
     ]
    },
    {
     "name": "stdout",
     "output_type": "stream",
     "text": [
      "None\n",
      "None\n",
      "None\n",
      "None\n",
      "None\n",
      "None\n",
      "None\n",
      "None\n",
      "None\n",
      "None\n",
      "None\n",
      "None\n",
      "None\n",
      "None\n",
      "None\n",
      "None\n"
     ]
    },
    {
     "name": "stderr",
     "output_type": "stream",
     "text": [
      "100%|██████████| 28/28 [00:00<00:00, 18459.68it/s]\n"
     ]
    },
    {
     "name": "stdout",
     "output_type": "stream",
     "text": [
      "None\n",
      "None\n",
      "None\n",
      "None\n",
      "None\n",
      "None\n",
      "None\n",
      "None\n",
      "None\n",
      "None\n",
      "None\n",
      "None\n"
     ]
    },
    {
     "name": "stderr",
     "output_type": "stream",
     "text": [
      "100%|██████████| 28/28 [00:00<00:00, 17869.83it/s]\n",
      "100%|██████████| 100/100 [08:18<00:00,  4.99s/it]\n"
     ]
    }
   ],
   "source": [
    "HOUSE_TYPE = {'아파트':1, '빌라&연립':2, '단독주택':3}\n",
    "SPACE = {'거실':1, '주방':3}\n",
    "SCROLL_CNT = 100 # 스크롤 내릴 횟수\n",
    "\n",
    "house_type = '아파트'\n",
    "space = '거실'\n",
    "href_list = []\n",
    "\n",
    "url = 'https://ohou.se/cards/feed?residence=%d&space=%d&self=true' %(HOUSE_TYPE[house_type], SPACE[space])\n",
    "driver.get(url)\n",
    "driver.implicitly_wait(30)\n",
    "\n",
    "for i in trange(SCROLL_CNT):\n",
    "    html_source = driver.page_source\n",
    "    soup = BeautifulSoup(html_source, 'html.parser')\n",
    "\n",
    "    card_feed = soup.find_all(\"div\", \"card-feed__item-wrap\")\n",
    "    for i, card in enumerate (tqdm(card_feed)):\n",
    "        try:\n",
    "            href = card.find(\"a\", \"card-item__content__link\").attrs['href']\n",
    "        except:\n",
    "            print(card.find(\"a\", \"card-item__content__link\"))\n",
    "        if not href.split('/')[0]:\n",
    "            href = 'https://ohou.se' + href\n",
    "        href_list.append(href)\n",
    "        \n",
    "    time.sleep(2)\n",
    "    scroll(1)\n",
    "    \n",
    "href_df = pd.DataFrame(href_list)\n",
    "href_df = href_df[0].drop_duplicates()\n",
    "href_df.to_csv('./ohou_url_'+ house_type + '_' + space +'.csv', encoding = 'utf-8', index=False)"
   ]
  },
  {
   "cell_type": "code",
   "execution_count": 5,
   "metadata": {},
   "outputs": [
    {
     "data": {
      "text/plain": [
       "2732"
      ]
     },
     "execution_count": 5,
     "metadata": {},
     "output_type": "execute_result"
    }
   ],
   "source": [
    "len(href_df)"
   ]
  },
  {
   "attachments": {},
   "cell_type": "markdown",
   "metadata": {},
   "source": [
    "#### 수집한 URL 접근\n",
    "<b><수집할 것></b>\n",
    "- 유저 상세 정보\n",
    "- 사진 1장\n",
    "- 글"
   ]
  },
  {
   "cell_type": "code",
   "execution_count": 32,
   "metadata": {},
   "outputs": [],
   "source": [
    "def SaveImage(space, user_id, date, house_type, image):\n",
    "    path = './image/'+space +'/'\n",
    "    savename = '_'.join([user_id, date, house_type]) + '.jpg'\n",
    "    try:\n",
    "        urllib.request.urlretrieve(image, path + savename)\n",
    "        return 'Yes'\n",
    "    except:\n",
    "        return 'No'"
   ]
  },
  {
   "cell_type": "code",
   "execution_count": 40,
   "metadata": {},
   "outputs": [
    {
     "name": "stderr",
     "output_type": "stream",
     "text": [
      "/var/folders/sc/1nz868pn58g38qxs8kb343p80000gn/T/ipykernel_4491/612218689.py:3: DeprecationWarning: executable_path has been deprecated, please pass in a Service object\n",
      "  driver = webdriver.Chrome(chrome_driver)\n",
      " 35%|███▍      | 900/2573 [52:06<2:01:30,  4.36s/it]"
     ]
    },
    {
     "name": "stdout",
     "output_type": "stream",
     "text": [
      "집들이 except: https://ohou.se/cards/22970013?affect_type=CardIndex&affect_id=0\n"
     ]
    },
    {
     "name": "stderr",
     "output_type": "stream",
     "text": [
      " 35%|███▌      | 910/2573 [52:58<2:50:36,  6.16s/it]"
     ]
    },
    {
     "name": "stdout",
     "output_type": "stream",
     "text": [
      "집들이 except: https://ohou.se/cards/22969511?affect_type=CardIndex&affect_id=0\n"
     ]
    },
    {
     "name": "stderr",
     "output_type": "stream",
     "text": [
      " 77%|███████▋  | 1991/2573 [2:03:00<43:20,  4.47s/it]  "
     ]
    },
    {
     "name": "stdout",
     "output_type": "stream",
     "text": [
      "집들이 except: https://ohou.se/cards/22466179?affect_type=CardIndex&affect_id=0\n"
     ]
    },
    {
     "name": "stderr",
     "output_type": "stream",
     "text": [
      " 92%|█████████▏| 2378/2573 [2:28:24<14:04,  4.33s/it]  "
     ]
    },
    {
     "name": "stdout",
     "output_type": "stream",
     "text": [
      "집들이 except: https://ohou.se/cards/22328875?affect_type=CardIndex&affect_id=0\n"
     ]
    },
    {
     "name": "stderr",
     "output_type": "stream",
     "text": [
      " 95%|█████████▍| 2434/2573 [2:32:15<09:31,  4.11s/it]"
     ]
    },
    {
     "name": "stdout",
     "output_type": "stream",
     "text": [
      "집들이 except: https://ohou.se/cards/22311646?affect_type=CardIndex&affect_id=0\n"
     ]
    },
    {
     "name": "stderr",
     "output_type": "stream",
     "text": [
      "100%|██████████| 2573/2573 [2:42:25<00:00,  3.79s/it]\n"
     ]
    }
   ],
   "source": [
    "# ssl 오류 해결\n",
    "ssl._create_default_https_context = ssl._create_unverified_context\n",
    "driver = webdriver.Chrome(chrome_driver)\n",
    "\n",
    "HOUSE_TYPE = {'아파트':1, '빌라&연립':2, '단독주택':3}\n",
    "SPACE = {'거실':1, '주방':3}\n",
    "\n",
    "house_type = '아파트'\n",
    "space = '거실'\n",
    "\n",
    "USER_ID_list = []\n",
    "DATE_list = []\n",
    "CONTENT_list = []\n",
    "M2_list = []\n",
    "FAMILY_TYPE_list = []\n",
    "STYLE_list = []\n",
    "IS_IMAGE_list = []\n",
    "\n",
    "url_csv = pd.read_csv('./ohou_url_'+ house_type + '_' + space +'.csv', encoding = 'utf-8')\n",
    "\n",
    "for i, url in enumerate(tqdm(url_csv['0'][159:])):\n",
    "    driver.get(url)\n",
    "    driver.implicitly_wait(30)\n",
    "    time.sleep(1)\n",
    "    \n",
    "    # <집들이> 배너\n",
    "    if url.split('/')[3] == 'cards': \n",
    "        try:\n",
    "            # 메인 사진 html 경로\n",
    "            image = driver.find_element(By.XPATH, '/html/body/div[1]/div/div/div[2]/div[1]/div/div[2]/div[1]/div/div[1]/img').get_attribute('src')\n",
    "            soup = BeautifulSoup(driver.page_source, 'html.parser')\n",
    "            try:\n",
    "                banner = soup.find('span','css-68r0st e7eueas3').text\n",
    "            except:\n",
    "                banner = np.nan\n",
    "\n",
    "            if banner.split()[3] == '사진묶음':\n",
    "                user_id = soup.find('span','css-vhie6w e1y3nubp4').text\n",
    "                date = soup.find('span', 'css-1xu9oq0 e1y3nubp2').text\n",
    "                is_save = SaveImage(space, user_id, date, house_type, image)\n",
    "                content = soup.find('p','css-mjr9jp e84hk590').text\n",
    "                \n",
    "                m2 = np.nan\n",
    "                family = np.nan\n",
    "                style = np.nan\n",
    "                \n",
    "            elif banner.split()[3] == '집들이':\n",
    "                # <사진> -> <집들이> 게시판으로 이동 \n",
    "                driver.find_element(By.XPATH, '/html/body/div[1]/div/div/div[2]/div[1]/div/div[2]/a').click()\n",
    "                time.sleep(1)\n",
    "\n",
    "                # 유저 아이디, 업로드 날짜, 글 수집\n",
    "                soup = BeautifulSoup(driver.page_source, 'html.parser')\n",
    "                user_id = soup.find('div','content-detail-header__author-name').text\n",
    "                date = soup.find('div', 'content-detail-header__author-date').text\n",
    "                content = soup.find('div','bpd-view project-detail__content-bpd').text\n",
    "                # 메인 사진 저장\n",
    "                is_save = SaveImage(space, user_id, date, house_type, image)\n",
    "                \n",
    "                # 유저 상세정보 읽기\n",
    "                user_detail = soup.find_all('div', 'project-detail-metadata-detail-item')\n",
    "                user_category = {}\n",
    "                for j, user in enumerate(user_detail):\n",
    "                    user_category[user.find('dt').text] = user.find('dd').text\n",
    "                \n",
    "                m2 = user_category['평수']\n",
    "                family = user_category['가족형태']\n",
    "                style = user_category['스타일']\n",
    "                \n",
    "            else:\n",
    "                pass\n",
    "            \n",
    "            \n",
    "            IS_IMAGE_list.append(is_save)\n",
    "            USER_ID_list.append(user_id)\n",
    "            DATE_list.append(date)\n",
    "            CONTENT_list.append(content)\n",
    "            M2_list.append(m2)\n",
    "            FAMILY_TYPE_list.append(family)\n",
    "            STYLE_list.append(style)\n",
    "\n",
    "        except:\n",
    "            print('집들이 except:', url)\n",
    "          \n",
    "    # <사진> 배너        \n",
    "    elif url.split('/')[3] == 'contents': \n",
    "        soup = BeautifulSoup(driver.page_source, 'html.parser')\n",
    "        user_id = soup.find('span','css-vhie6w e1y3nubp4').text\n",
    "        date = soup.find('span', 'css-1xu9oq0 e1y3nubp2').text\n",
    "        content = soup.find('p','css-12387wg e21uqym2').text\n",
    "        \n",
    "        # 메인 사진 html 경로\n",
    "        try: \n",
    "            image = soup.find('div','css-79elbk ebjiupo0')\n",
    "            image = image.select('img')[0]['src']\n",
    "            is_save = SaveImage(space, user_id, date, house_type, image)\n",
    "        except:  # 비디오 -> pass\n",
    "            is_save = 'No'\n",
    "        \n",
    "        IS_IMAGE_list.append(is_save)\n",
    "        USER_ID_list.append(user_id)\n",
    "        DATE_list.append(date)\n",
    "        CONTENT_list.append(content)\n",
    "        M2_list.append(np.nan)\n",
    "        FAMILY_TYPE_list.append(np.nan)\n",
    "        STYLE_list.append(np.nan)\n",
    "        \n",
    "    else:\n",
    "        print('Except Access: ', url)"
   ]
  },
  {
   "cell_type": "code",
   "execution_count": 35,
   "metadata": {},
   "outputs": [
    {
     "data": {
      "text/plain": [
       "'https://contents.ohou.se/contents/card_collections/19001027?affect_type=CardIndex&affect_id=0'"
      ]
     },
     "execution_count": 35,
     "metadata": {},
     "output_type": "execute_result"
    }
   ],
   "source": [
    "url_csv['0'][159]"
   ]
  },
  {
   "cell_type": "code",
   "execution_count": 41,
   "metadata": {},
   "outputs": [
    {
     "data": {
      "text/plain": [
       "691"
      ]
     },
     "execution_count": 41,
     "metadata": {},
     "output_type": "execute_result"
    }
   ],
   "source": [
    "data = {'USER_ID': USER_ID_list,\n",
    "        'DATE': DATE_list,\n",
    "        'M2': M2_list,\n",
    "        'FAMILY_TYPE': FAMILY_TYPE_list,\n",
    "        'STYLE': STYLE_list,\n",
    "        'IS_IMAGE': IS_IMAGE_list,\n",
    "        'CONTENT': CONTENT_list}\n",
    "ohou_df = pd.DataFrame(data)\n",
    "\n",
    "ohou_df.duplicated(['USER_ID', 'DATE', 'CONTENT']).sum()"
   ]
  },
  {
   "cell_type": "code",
   "execution_count": 42,
   "metadata": {},
   "outputs": [
    {
     "data": {
      "text/plain": [
       "2568"
      ]
     },
     "execution_count": 42,
     "metadata": {},
     "output_type": "execute_result"
    }
   ],
   "source": [
    "len(ohou_df)"
   ]
  },
  {
   "cell_type": "code",
   "execution_count": 43,
   "metadata": {},
   "outputs": [],
   "source": [
    "ohou_df = ohou_df.drop_duplicates(['USER_ID', 'DATE', 'CONTENT'])"
   ]
  },
  {
   "cell_type": "code",
   "execution_count": 44,
   "metadata": {},
   "outputs": [],
   "source": [
    "ohou_df.to_csv('./data/아파트_거실_3.csv', encoding='utf-8', index=False)"
   ]
  },
  {
   "cell_type": "code",
   "execution_count": 28,
   "metadata": {},
   "outputs": [
    {
     "data": {
      "text/html": [
       "<div>\n",
       "<style scoped>\n",
       "    .dataframe tbody tr th:only-of-type {\n",
       "        vertical-align: middle;\n",
       "    }\n",
       "\n",
       "    .dataframe tbody tr th {\n",
       "        vertical-align: top;\n",
       "    }\n",
       "\n",
       "    .dataframe thead th {\n",
       "        text-align: right;\n",
       "    }\n",
       "</style>\n",
       "<table border=\"1\" class=\"dataframe\">\n",
       "  <thead>\n",
       "    <tr style=\"text-align: right;\">\n",
       "      <th></th>\n",
       "      <th>USER_ID</th>\n",
       "      <th>DATE</th>\n",
       "      <th>M2</th>\n",
       "      <th>FAMILY_TYPE</th>\n",
       "      <th>STYLE</th>\n",
       "      <th>IS_IMAGE</th>\n",
       "      <th>CONTENT</th>\n",
       "    </tr>\n",
       "  </thead>\n",
       "  <tbody>\n",
       "    <tr>\n",
       "      <th>0</th>\n",
       "      <td>jun.sum.home</td>\n",
       "      <td>2일 전</td>\n",
       "      <td>24평</td>\n",
       "      <td>신혼부부</td>\n",
       "      <td>내추럴</td>\n",
       "      <td>Yes</td>\n",
       "      <td>안녕하세요! 저희는 연애기간 4년, 결혼한지는 이제 4개월차가 된 새내기 부부 준숨...</td>\n",
       "    </tr>\n",
       "    <tr>\n",
       "      <th>1</th>\n",
       "      <td>my_aprilandjuly</td>\n",
       "      <td>2일 전</td>\n",
       "      <td>32평</td>\n",
       "      <td>아기가 있는 집</td>\n",
       "      <td>미니멀&amp;심플</td>\n",
       "      <td>Yes</td>\n",
       "      <td>안녕하세요. 저는 오랜 친구인 남편과 평생 단짝인 사이좋은 두 살 터울 남매와 함께...</td>\n",
       "    </tr>\n",
       "    <tr>\n",
       "      <th>2</th>\n",
       "      <td>shogunhome</td>\n",
       "      <td>2일 전</td>\n",
       "      <td>NaN</td>\n",
       "      <td>NaN</td>\n",
       "      <td>NaN</td>\n",
       "      <td>Yes</td>\n",
       "      <td>오늘 날씨가 따뜻해서 봄이 옴을 느낄수있는거 같아요!!!^^\\n봄이 오니 새단장을 ...</td>\n",
       "    </tr>\n",
       "    <tr>\n",
       "      <th>3</th>\n",
       "      <td>묘묘한집</td>\n",
       "      <td>2일 전</td>\n",
       "      <td>NaN</td>\n",
       "      <td>NaN</td>\n",
       "      <td>NaN</td>\n",
       "      <td>No</td>\n",
       "      <td>불과 2주 전 집에 온 아레카야자가 시들어 가고 있어요🥹 원래 저렇게 싱싱했는데, ...</td>\n",
       "    </tr>\n",
       "    <tr>\n",
       "      <th>4</th>\n",
       "      <td>daily.happymin</td>\n",
       "      <td>3일 전</td>\n",
       "      <td>32평</td>\n",
       "      <td>취학 자녀가 있는 집</td>\n",
       "      <td>모던, 내추럴</td>\n",
       "      <td>Yes</td>\n",
       "      <td>안녕하세요. 세 가족이 머무는 집을 소개하려고 합니다. 오늘의집 글을 작성하기에 앞...</td>\n",
       "    </tr>\n",
       "  </tbody>\n",
       "</table>\n",
       "</div>"
      ],
      "text/plain": [
       "           USER_ID  DATE   M2  FAMILY_TYPE    STYLE IS_IMAGE  \\\n",
       "0     jun.sum.home  2일 전  24평         신혼부부      내추럴      Yes   \n",
       "1  my_aprilandjuly  2일 전  32평     아기가 있는 집   미니멀&심플      Yes   \n",
       "2       shogunhome  2일 전  NaN          NaN      NaN      Yes   \n",
       "3             묘묘한집  2일 전  NaN          NaN      NaN       No   \n",
       "4   daily.happymin  3일 전  32평  취학 자녀가 있는 집  모던, 내추럴      Yes   \n",
       "\n",
       "                                             CONTENT  \n",
       "0  안녕하세요! 저희는 연애기간 4년, 결혼한지는 이제 4개월차가 된 새내기 부부 준숨...  \n",
       "1  안녕하세요. 저는 오랜 친구인 남편과 평생 단짝인 사이좋은 두 살 터울 남매와 함께...  \n",
       "2  오늘 날씨가 따뜻해서 봄이 옴을 느낄수있는거 같아요!!!^^\\n봄이 오니 새단장을 ...  \n",
       "3  불과 2주 전 집에 온 아레카야자가 시들어 가고 있어요🥹 원래 저렇게 싱싱했는데, ...  \n",
       "4  안녕하세요. 세 가족이 머무는 집을 소개하려고 합니다. 오늘의집 글을 작성하기에 앞...  "
      ]
     },
     "execution_count": 28,
     "metadata": {},
     "output_type": "execute_result"
    }
   ],
   "source": [
    "df = pd.read_csv('./data/아파트_거실_1.csv', encoding='utf-8')\n",
    "df.head()"
   ]
  },
  {
   "cell_type": "code",
   "execution_count": 29,
   "metadata": {},
   "outputs": [
    {
     "data": {
      "text/plain": [
       "86"
      ]
     },
     "execution_count": 29,
     "metadata": {},
     "output_type": "execute_result"
    }
   ],
   "source": [
    "len(df)"
   ]
  },
  {
   "attachments": {},
   "cell_type": "markdown",
   "metadata": {},
   "source": [
    "-----------------------"
   ]
  },
  {
   "cell_type": "code",
   "execution_count": 26,
   "metadata": {},
   "outputs": [
    {
     "name": "stderr",
     "output_type": "stream",
     "text": [
      "/var/folders/sc/1nz868pn58g38qxs8kb343p80000gn/T/ipykernel_99016/2439584868.py:2: DeprecationWarning: executable_path has been deprecated, please pass in a Service object\n",
      "  driver = webdriver.Chrome(chromedriver)\n"
     ]
    }
   ],
   "source": [
    "chromedriver = './chromedriver'\n",
    "driver = webdriver.Chrome(chromedriver)"
   ]
  },
  {
   "cell_type": "code",
   "execution_count": 39,
   "metadata": {},
   "outputs": [
    {
     "name": "stdout",
     "output_type": "stream",
     "text": [
      "초이은3 5일 전\n"
     ]
    }
   ],
   "source": [
    "# ssl 오류 해결\n",
    "ssl._create_default_https_context = ssl._create_unverified_context\n",
    "# driver = webdriver.Chrome(chrome_driver)\n",
    "\n",
    "HOUSE_TYPE = {'아파트':1, '빌라&연립':2, '단독주택':3}\n",
    "SPACE = {'거실':1, '주방':3}\n",
    "\n",
    "house_type = '아파트'\n",
    "space = '거실'\n",
    "\n",
    "USER_ID_list = []\n",
    "DATE_list = []\n",
    "CONTENT_list = []\n",
    "M2_list = []\n",
    "FAMILY_TYPE_list = []\n",
    "STYLE_list = []\n",
    "IS_IMAGE_list = []\n",
    "\n",
    "url = 'https://contents.ohou.se/contents/card_collections/19001027?affect_type=CardIndex&affect_id=0'\n",
    "driver.get(url)\n",
    "driver.implicitly_wait(30)\n",
    "\n",
    "# <집들이> 배너\n",
    "if url.split('/')[3] == 'cards':\n",
    "    try:\n",
    "        # 메인 사진 html 경로\n",
    "        soup = BeautifulSoup(driver.page_source, 'html.parser')\n",
    "        image = driver.find_element(By.XPATH, '/html/body/div[1]/div/div/div[2]/div[1]/div/div[2]/div[1]/div/div[1]/img').get_attribute('src')\n",
    "        print(image)\n",
    "        try:\n",
    "            banner = soup.find('span','css-68r0st e7eueas3').text\n",
    "        except:\n",
    "            banner = np.nan\n",
    "        print(banner)\n",
    "        if banner.split()[3] == '사진묶음':\n",
    "            user_id = soup.find('span','css-vhie6w e1y3nubp4').text\n",
    "            date = soup.find('span', 'css-1xu9oq0 e1y3nubp2').text\n",
    "            print(user_id, date)\n",
    "            is_save = SaveImage(space, user_id, date, house_type, image)\n",
    "            content = soup.find('p','css-mjr9jp e84hk590').text\n",
    "            # print(content)\n",
    "            m2 = np.nan\n",
    "            family = np.nan\n",
    "            style = np.nan\n",
    "            \n",
    "            \n",
    "        elif banner.split()[3] == '집들이':\n",
    "                    # <사진> -> <집들이> 게시판으로 이동 \n",
    "                    driver.find_element(By.XPATH, '/html/body/div[1]/div/div/div[2]/div[1]/div/div[2]/a').click()\n",
    "                    time.sleep(1)\n",
    "\n",
    "                    # 유저 아이디, 업로드 날짜, 글 수집\n",
    "                    soup = BeautifulSoup(driver.page_source, 'html.parser')\n",
    "                    user_id = soup.find('div','content-detail-header__author-name').text\n",
    "                    date = soup.find('div', 'content-detail-header__author-date').text\n",
    "                    content = soup.find('div','bpd-view project-detail__content-bpd').text\n",
    "                    # 메인 사진 저장\n",
    "                    is_save = SaveImage(space, user_id, date, house_type, image)\n",
    "                    \n",
    "                    # 유저 상세정보 읽기\n",
    "                    user_detail = soup.find_all('div', 'project-detail-metadata-detail-item')\n",
    "                    user_category = {}\n",
    "                    for j, user in enumerate(user_detail):\n",
    "                        user_category[user.find('dt').text] = user.find('dd').text\n",
    "                    \n",
    "                    m2 = user_category['평수']\n",
    "                    family = user_category['가족형태']\n",
    "                    style = user_category['스타일']\n",
    "                    \n",
    "        else: pass\n",
    "\n",
    "    except:\n",
    "        print('집들이 except:', url)\n",
    "          \n",
    "elif url.split('/')[3] == 'contents': \n",
    "    soup = BeautifulSoup(driver.page_source, 'html.parser')\n",
    "    # 메인 사진 html 경로\n",
    "    # try: # 비디오 -> pass\n",
    "    #     image = soup.find('div','css-79elbk ebjiupo0')\n",
    "    #     image = image.select('img')[0]['src']\n",
    "    #     print(image)\n",
    "    # except:\n",
    "    #     print('no')\n",
    "        # image = soup.find('div','css-79elbk ebjiupo0')\n",
    "        # image = image.select('img')[0]['src']\n",
    "        # image = driver.find_element(By.XPATH, '//*[@id=\"__next\"]/div[1]/div[2]/div/div[1]/div/div[2]/div[1]/div[1]/img').get_attribute('src')\n",
    "        # is_save = SaveImage(space, user_id, date, house_type, image)\n",
    "    \n",
    "    \n",
    "    user_id = soup.find('span','css-vhie6w e1y3nubp4').text\n",
    "    date = soup.find('span', 'css-1xu9oq0 e1y3nubp2').text\n",
    "    content = soup.find('p','css-12387wg e21uqym2').text\n",
    "    print(user_id, date)\n",
    "  "
   ]
  },
  {
   "cell_type": "code",
   "execution_count": 23,
   "metadata": {},
   "outputs": [],
   "source": [
    "def SaveImage(space, user_id, date, house_type, image):\n",
    "    path = './image/'+space +'/'\n",
    "    savename = '_'.join([user_id, date, house_type]) + '.jpg'\n",
    "    print(path, savename)\n",
    "    try:\n",
    "        urllib.request.urlretrieve(image, path + savename)\n",
    "        return 'Yes'\n",
    "    except:\n",
    "        return 'No'"
   ]
  },
  {
   "cell_type": "code",
   "execution_count": 11,
   "metadata": {},
   "outputs": [],
   "source": [
    "image"
   ]
  }
 ],
 "metadata": {
  "kernelspec": {
   "display_name": "Python 3",
   "language": "python",
   "name": "python3"
  },
  "language_info": {
   "codemirror_mode": {
    "name": "ipython",
    "version": 3
   },
   "file_extension": ".py",
   "mimetype": "text/x-python",
   "name": "python",
   "nbconvert_exporter": "python",
   "pygments_lexer": "ipython3",
   "version": "3.11.1"
  },
  "orig_nbformat": 4,
  "vscode": {
   "interpreter": {
    "hash": "aee8b7b246df8f9039afb4144a1f6fd8d2ca17a180786b69acc140d282b71a49"
   }
  }
 },
 "nbformat": 4,
 "nbformat_minor": 2
}
